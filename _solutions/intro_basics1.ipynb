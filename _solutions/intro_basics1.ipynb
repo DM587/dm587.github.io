{
 "cells": [
  {
   "cell_type": "markdown",
   "metadata": {},
   "source": [
    "## Solutions to Sheet 1.a"
   ]
  },
  {
   "cell_type": "code",
   "execution_count": 1,
   "metadata": {
    "collapsed": false
   },
   "outputs": [
    {
     "data": {
      "text/plain": [
       "523.5983333333332"
      ]
     },
     "execution_count": 1,
     "metadata": {},
     "output_type": "execute_result"
    }
   ],
   "source": [
    "# problem 1\n",
    "def sphere_volume(r: float) -> float:\n",
    "    \"\"\"Returns the volume of a sphere\"\"\"\n",
    "    return 4/3 * 3.14159 * r**3\n",
    "\n",
    "sphere_volume(5)"
   ]
  },
  {
   "cell_type": "code",
   "execution_count": null,
   "metadata": {},
   "outputs": [],
   "source": []
  },
  {
   "cell_type": "code",
   "execution_count": 5,
   "metadata": {
    "collapsed": false
   },
   "outputs": [
    {
     "name": "stdout",
     "output_type": "stream",
     "text": [
      "1     2     3 4 5\n"
     ]
    }
   ],
   "source": [
    "# problem 2\n",
    "def isolate(a: int, b: int, c: int, d: int, e: int) -> None:\n",
    "    \"\"\"Print first two values with 5 spaces rest with one\"\"\"\n",
    "    print(a, b, sep=\"     \", end=\"     \")\n",
    "    print(c, d, e)\n",
    "\n",
    "isolate(1, 2, 3, 4, 5)"
   ]
  },
  {
   "cell_type": "code",
   "execution_count": 6,
   "metadata": {
    "collapsed": false
   },
   "outputs": [
    {
     "name": "stdout",
     "output_type": "stream",
     "text": [
      "12\n"
     ]
    }
   ],
   "source": [
    "# problem 3.1\n",
    "def first_half(sin: str) -> None:\n",
    "    half = int(len(sin)/2)  # int() removes the comma\n",
    "    print(sin[:half])\n",
    "\n",
    "first_half(\"12345\")"
   ]
  },
  {
   "cell_type": "code",
   "execution_count": 7,
   "metadata": {
    "collapsed": false
   },
   "outputs": [
    {
     "name": "stdout",
     "output_type": "stream",
     "text": [
      "dcba\n"
     ]
    }
   ],
   "source": [
    "# problem 3.2\n",
    "def backward(sin: str) -> None:\n",
    "    print(sin[::-1]) # [start:end:step]\n",
    "\n",
    "backward(\"abcd\")"
   ]
  },
  {
   "cell_type": "code",
   "execution_count": null,
   "metadata": {
    "collapsed": false
   },
   "outputs": [
    {
     "name": "stdout",
     "output_type": "stream",
     "text": [
      "1: ['bear', 'ant', 'cat', 'dog']\n",
      "2: ['bear', 'ant', 'cat', 'dog', 'eagle']\n",
      "3: ['bear', 'ant', 'fox', 'dog', 'eagle']\n",
      "4: ['bear', 'fox', 'dog', 'eagle']\n",
      "5: ['eagle', 'dog', 'fox', 'bear']\n",
      "6: ['hawk', 'dog', 'fox', 'bear']\n",
      "7: ['hawk', 'dog', 'fox', 'bear', 'hunter']\n"
     ]
    },
    {
     "data": {
      "text/plain": [
       "['hawk', 'dog', 'fox', 'bear', 'hunter']"
      ]
     },
     "execution_count": 6,
     "metadata": {},
     "output_type": "execute_result"
    }
   ],
   "source": [
    "# problem 4\n",
    "def list_ops() -> list[str]:\n",
    "    lst = [\"bear\", \"ant\", \"cat\", \"dog\"];    print(f\"1: {lst}\")\n",
    "    lst.append(\"eagle\");                    print(f\"2: {lst}\")\n",
    "    lst[2] = \"fox\";                         print(f\"3: {lst}\")\n",
    "    lst.pop(1);                             print(f\"4: {lst}\")\n",
    "    lst.reverse();                          print(f\"5: {lst}\")\n",
    "    lst[lst.index(\"eagle\")] = \"hawk\";       print(f\"6: {lst}\")\n",
    "    lst.append(\"hunter\");                   print(f\"7: {lst}\")\n",
    "    return lst\n",
    "\n",
    "list_ops()"
   ]
  },
  {
   "cell_type": "code",
   "execution_count": null,
   "metadata": {
    "collapsed": false
   },
   "outputs": [
    {
     "name": "stdout",
     "output_type": "stream",
     "text": [
      "aesop rockhay\n"
     ]
    }
   ],
   "source": [
    "# problem 5\n",
    "def pig_latin(word: str) -> None:\n",
    "    vowels = (\"a\", \"e\", \"i\", \"o\", \"u\")\n",
    "    if word[0].lower() in vowels:\n",
    "        word = word + \"hay\"\n",
    "        print(word)\n",
    "    else:\n",
    "        word = word + word[0] + \"ay\"\n",
    "        word = word.replace(word[0], \"\")\n",
    "        print(word)\n",
    "\n",
    "\n",
    "pig_latin(\"aesop rock\")"
   ]
  },
  {
   "cell_type": "code",
   "execution_count": 8,
   "metadata": {
    "collapsed": false
   },
   "outputs": [
    {
     "name": "stdout",
     "output_type": "stream",
     "text": [
      "906609\n"
     ]
    }
   ],
   "source": [
    "# problem 6\n",
    "def palindrome() -> int:\n",
    "    palindromes: list[int] = []\n",
    "    for i in range(100, 1000):\n",
    "        for j in range(100, 1000):\n",
    "            product = i * j\n",
    "            if str(product) == str(product)[::-1]: # [start:end:step]\n",
    "               palindromes.append(product)\n",
    "    #print(palindromes) # list of all palindromes\n",
    "    return max(palindromes)\n",
    "\n",
    "\n",
    "print(palindrome())"
   ]
  },
  {
   "cell_type": "code",
   "execution_count": null,
   "metadata": {
    "collapsed": false
   },
   "outputs": [
    {
     "name": "stdout",
     "output_type": "stream",
     "text": [
      "0.7833333333333332\n"
     ]
    }
   ],
   "source": [
    "# problem 7 - w/ list comprehension\n",
    "def alt_harmonic(n: int) -> int:\n",
    "    return sum([(-1)**(i+1)/i for i in range(1, n+1)])\n",
    "\n",
    "\n",
    "print(alt_harmonic(5))"
   ]
  },
  {
   "cell_type": "code",
   "execution_count": null,
   "metadata": {
    "collapsed": false
   },
   "outputs": [
    {
     "data": {
      "text/plain": [
       "0.7833333333333332"
      ]
     },
     "execution_count": 10,
     "metadata": {},
     "output_type": "execute_result"
    }
   ],
   "source": [
    "# problem 7 - w/o list comprehension\n",
    "def alt_harmonic_alternative(n: int) -> int:\n",
    "    elements: list[int] = []\n",
    "    for i in range(1, n+1):\n",
    "        elements.append((-1)**(i+1)/i)\n",
    "        \n",
    "    return sum(elements)\n",
    "\n",
    "        \n",
    "alt_harmonic_alternative(5)"
   ]
  },
  {
   "cell_type": "code",
   "execution_count": null,
   "metadata": {
    "collapsed": false
   },
   "outputs": [
    {
     "data": {
      "text/plain": [
       "(1, 2.5, 4)"
      ]
     },
     "execution_count": 17,
     "metadata": {},
     "output_type": "execute_result"
    }
   ],
   "source": [
    "# problem 8\n",
    "def list_info(lst: list[float]) -> tuple[float, float, float]:\n",
    "    return min(lst), sum(lst)/len(lst), max(lst)\n",
    "\n",
    "# alternatively\n",
    "\n",
    "lst = [1,2,3,4]\n",
    "tuple((min(lst), sum(lst)/len(lst), max(lst)))"
   ]
  },
  {
   "cell_type": "code",
   "execution_count": null,
   "metadata": {},
   "outputs": [
    {
     "data": {
      "text/plain": [
       "{1: 'Marco', 2: 'Luca', 3: 'Alex'}"
      ]
     },
     "execution_count": 18,
     "metadata": {},
     "output_type": "execute_result"
    }
   ],
   "source": [
    "# task 9\n",
    "d = {\"Marco\": 1, \"Luca\": 2, \"Alex\": 3}\n",
    "d_inv = {item: key for key,item in d.items()}\n",
    "d_inv"
   ]
  },
  {
   "cell_type": "code",
   "execution_count": null,
   "metadata": {
    "collapsed": false
   },
   "outputs": [
    {
     "name": "stdout",
     "output_type": "stream",
     "text": [
      "int1: 3, int2: 1, equals?: False\n",
      "int1 id: 4388964720, int2 id: 4388964656, equals?: False\n",
      "\n",
      "str1: bar, str2: foo, equals?: False\n",
      "str1 id: 4396523312, str2 id: 4396523440, equals?: False\n",
      "\n",
      "list1: [10, 2, 3], list2: [10, 2, 3], equals?: True\n",
      "list1 id: 4584247744, list2 id: 4584247744, equals?: True\n",
      "\n",
      "tuple1: (1, 2, 3, 1), tuple2: (1, 2, 3), equals?: False\n",
      "tuple1 id: 4550627792, tuple2 id: 4428778368, equals?: False\n",
      "\n",
      "set1: {2, 3}, set2: {2, 3}, equals?: True\n",
      "set1 id: 4428894720, set2 id: 4428894720, equals?: True\n",
      "\n"
     ]
    }
   ],
   "source": [
    "# problem 10\n",
    "int1 = 1\n",
    "int2 = int1\n",
    "int1 = 3\n",
    "print(\"int1: {}, int2: {}, equals?: {}\".format(int1, int2, int1 == int2))\n",
    "print(\"int1 id: {}, int2 id: {}, equals?: {}\\n\".format(\n",
    "    id(int1), id(int2), id(int1) == id(int2)))\n",
    "\n",
    "str1 = \"foo\"\n",
    "str2 = str1\n",
    "str1 = \"bar\"\n",
    "print(\"str1: {}, str2: {}, equals?: {}\".format(str1, str2, str1 == str2))\n",
    "print(\"str1 id: {}, str2 id: {}, equals?: {}\\n\".format(\n",
    "    id(str1), id(str2), id(str1) == id(str2)))\n",
    "\n",
    "list1 = [1, 2, 3]\n",
    "list2 = list1 # solve using list1.copy()\n",
    "list1[0] = 10\n",
    "print(\"list1: {}, list2: {}, equals?: {}\".format(list1, list2, list1 == list2))\n",
    "print(\"list1 id: {}, list2 id: {}, equals?: {}\\n\".format(\n",
    "    id(list1), id(list2), id(list1) == id(list2)))\n",
    "\n",
    "tuple1 = (1, 2, 3)\n",
    "tuple2 = (1, 2, 3)\n",
    "tuple1 += (1,)\n",
    "print(\"tuple1: {}, tuple2: {}, equals?: {}\".format(\n",
    "    tuple1, tuple2, tuple1 == tuple2))\n",
    "print(\"tuple1 id: {}, tuple2 id: {}, equals?: {}\\n\".format(\n",
    "    id(tuple1), id(tuple2), id(tuple1) == id(tuple2)))\n",
    "\n",
    "set1 = {1, 2, 3}\n",
    "set2 = set1 # solve using set1.copy()\n",
    "set1.pop()\n",
    "print(\"set1: {}, set2: {}, equals?: {}\".format(set1, set2, set1 == set2))\n",
    "print(\"set1 id: {}, set2 id: {}, equals?: {}\\n\".format(\n",
    "    id(set1), id(set2), id(set1) == id(set2)))"
   ]
  },
  {
   "cell_type": "code",
   "execution_count": 19,
   "metadata": {
    "collapsed": false
   },
   "outputs": [
    {
     "data": {
      "text/plain": [
       "13"
      ]
     },
     "execution_count": 19,
     "metadata": {},
     "output_type": "execute_result"
    }
   ],
   "source": [
    "# problem 11\n",
    "# calculator.py\n",
    "from math import sqrt\n",
    "\n",
    "def my_sum(addend1: float, addend2: float) -> float:\n",
    "    return addend1 + addend2\n",
    "\n",
    "def product(factor1: float, factor2: float) -> float:\n",
    "    return factor1 * factor2\n",
    "\n",
    "# other_file.py\n",
    "\n",
    "# from calculator.py import *\n",
    "def hypotenuse(side1: float, side2: float):\n",
    "    return my_sum(product(side1, side1), product(side2, side2))\n",
    "    \n",
    "hypotenuse(2, 3)"
   ]
  },
  {
   "cell_type": "code",
   "execution_count": 20,
   "metadata": {
    "collapsed": false
   },
   "outputs": [
    {
     "name": "stdout",
     "output_type": "stream",
     "text": [
      "84\n"
     ]
    }
   ],
   "source": [
    "# problem 12\n",
    "import random\n",
    "\n",
    "# example of how to generate random numbers\n",
    "print(random.randrange(1, 100)) # 100 is not included"
   ]
  },
  {
   "cell_type": "code",
   "execution_count": 28,
   "metadata": {
    "collapsed": false
   },
   "outputs": [
    {
     "data": {
      "text/plain": [
       "[set(), {'1'}, {'2'}, {'3'}, {'12'}, {'13'}, {'23'}, {'123'}]"
      ]
     },
     "execution_count": 28,
     "metadata": {},
     "output_type": "execute_result"
    }
   ],
   "source": [
    "# problem 13\n",
    "from collections.abc import Sequence\n",
    "from itertools import chain, combinations\n",
    "\n",
    "def calcPowerSet(lst: Sequence[int | float | str]):\n",
    "    empty_set: set[int | float | str] = set()\n",
    "    sets: list[set[int | float | str ]] = [empty_set]\n",
    "    for i in range(1, len(lst)+1):\n",
    "        for element in combinations(lst, i):\n",
    "            # combinations generate combinations with the length of the second argument\n",
    "            sets.append({''.join(element)}) # joins an iterable\n",
    "    return sets\n",
    "\n",
    "calcPowerSet(('1', '2', '3'))\n",
    "\n",
    "# why not set of sets? because sets are not hashable.\n"
   ]
  },
  {
   "cell_type": "code",
   "execution_count": 31,
   "metadata": {},
   "outputs": [
    {
     "data": {
      "text/plain": [
       "[(),\n",
       " ('b',),\n",
       " ('a',),\n",
       " ('c',),\n",
       " ('b', 'a'),\n",
       " ('b', 'c'),\n",
       " ('a', 'c'),\n",
       " ('b', 'a', 'c')]"
      ]
     },
     "execution_count": 31,
     "metadata": {},
     "output_type": "execute_result"
    }
   ],
   "source": [
    "from collections.abc import Iterable    \n",
    "\n",
    "def power_set(iterable: Iterable[int | float | str]) -> chain[tuple[int | float | str, ...]]: \n",
    "    \"power_set([1,2,3]) --> () (1,) (2,) (3,) (1,2) (1,3) (2,3) (1,2,3)\"\n",
    "    s = list(iterable)\n",
    "    return chain.from_iterable(combinations(s, r) for r in range(len(s)+1))\n",
    "\n",
    "list( power_set({\"a\",\"b\",\"c\"}) )"
   ]
  },
  {
   "cell_type": "code",
   "execution_count": null,
   "metadata": {
    "collapsed": false
   },
   "outputs": [],
   "source": [
    "# problem 14\n",
    "from __future__ import annotations # because of forward reference to class Backpack\n",
    "\n",
    "class Backpack:\n",
    "    \"\"\"A Backpack object class. Has a name, color, max size, and\n",
    "       a list of contents.\n",
    "\n",
    "    Attributes:\n",
    "        name (str): the name of the backpack's owner.\n",
    "        color (str): the color of the backpack\n",
    "        max_size (int): the max size\n",
    "        contents (list): the contents of the backpack.\n",
    "    \"\"\"\n",
    "\n",
    "    # Problem 14: Modify __init__() and put(), and write dump().\n",
    "    def __init__(self, name: str, color: str, max_size: int = 5) -> None:\n",
    "        \"\"\"Set the name, color, max size, and initialize\n",
    "           an empty list of contents.\n",
    "\n",
    "        Parameters:\n",
    "            name (str): the name of the backpack's owner.\n",
    "            color (str): the color of the backpack\n",
    "            max_size(int, optional): max size of backpack\n",
    "\n",
    "        \"\"\"\n",
    "        self.name = name\n",
    "        self.color = color\n",
    "        self.max_size = max_size\n",
    "        self.contents: list[str] = []\n",
    "\n",
    "    def put(self, item: str) -> None:\n",
    "        \"\"\"Add an item to the backpack's list of contents unless it is full.\"\"\"\n",
    "        if len(self.contents) >= self.max_size:\n",
    "            print(\"No room!\")\n",
    "        else:\n",
    "            self.contents.append(item)\n",
    "\n",
    "    def take(self, item: str) -> None:\n",
    "        \"\"\"Remove an item from the backpack's list of contents.\"\"\"\n",
    "        self.contents.remove(item)\n",
    "\n",
    "    def dump(self) -> None:\n",
    "        \"\"\"Remove all items from backpack.\"\"\"\n",
    "        self.contents.clear()\n",
    "\n",
    "    # Magic Methods -----------------------------------------------------------\n",
    "\n",
    "    # Problem 16: Write __eq__() and __str__().\n",
    "    def __add__(self, other: Backpack):\n",
    "        \"\"\"Add the number of contents of each Backpack.\"\"\"\n",
    "        return len(self.contents) + len(other.contents)\n",
    "\n",
    "    def __lt__(self, other: Backpack):\n",
    "        \"\"\"Compare two backpacks. If 'self' has fewer contents\n",
    "        than 'other', return True. Otherwise, return False.\n",
    "        \"\"\"\n",
    "        return len(self.contents) < len(other.contents)\n",
    "\n",
    "    def __eq__(self, o: Backpack):\n",
    "        q = 0\n",
    "        if self.name == o.name:\n",
    "            q += 1\n",
    "        if self.color == o.color:\n",
    "            q += 1\n",
    "        if self.contents == o.contents:\n",
    "            q += 1\n",
    "        if q == 3:\n",
    "            return True\n",
    "        else:\n",
    "            return False\n",
    "\n",
    "    def __str__(self):\n",
    "        return f\"<<Owner:\\t{self.name}\\nColor:\\t\\t{self.color}\\nSize:\\t\\t{len(self.contents)}\\nMax Size:\\t{self.max_size}\\nContents:\\t{self.contents}>>\"            "
   ]
  },
  {
   "cell_type": "code",
   "execution_count": null,
   "metadata": {
    "collapsed": false
   },
   "outputs": [
    {
     "name": "stdout",
     "output_type": "stream",
     "text": [
      "Contents:  ['book', 'pencil case']\n",
      "<<Owner:\tfoo\n",
      "Color:\t\tgreen\n",
      "Size:\t\t2\n",
      "Max Size:\t4\n",
      "Contents:\t['book', 'pencil case']>>\n",
      "True\n"
     ]
    }
   ],
   "source": [
    "# problem 14 - test function\n",
    "def test_backpack():\n",
    "    test = Backpack(\"foo\", \"green\", max_size=4)\n",
    "    if test.name != \"foo\":\n",
    "        print(\"Name is incorrect.\")\n",
    "    for item in [\"book\", \"pencil case\"]:\n",
    "        test.put(item)\n",
    "    print(\"Contents: \", test.contents)\n",
    "\n",
    "    # problem 15 - test magic methods\n",
    "    print(str(test))\n",
    "    test2 = Backpack(\"foo\", \"green\", max_size=4)\n",
    "    for item in [\"book\", \"pencil case\"]:\n",
    "        test2.put(item)\n",
    "    print(test == test2)\n",
    "\n",
    "\n",
    "test_backpack()"
   ]
  },
  {
   "cell_type": "code",
   "execution_count": 45,
   "metadata": {
    "collapsed": false
   },
   "outputs": [],
   "source": [
    "# Problem 15: Write a 'Jetpack' class that inherits from the 'Backpack' class.\n",
    "class Jetpack(Backpack):\n",
    "    \"\"\"A jetpack that inherits from backpack.\n",
    "\n",
    "    Attributes:\n",
    "    - name (str): name of owner\n",
    "    - color (str): color of backpack\n",
    "    - max_size (int): max size of backpack\n",
    "    - fuel: current fuel of the backpack\"\"\"\n",
    "\n",
    "    def __init__(self, name: str, color: str, max_size: int = 2, fuel: float =10):\n",
    "        \"\"\"Call the super class' constructor and initialize fuel\n",
    "\n",
    "        Parameters:\n",
    "        - name (str): name of owner\n",
    "        - color (str): color of backpack\n",
    "        - max_size (int): max size of backpack\n",
    "        - fuel: current fuel of the backpack\"\"\"\n",
    "        Backpack.__init__(self, name, color, max_size)\n",
    "        self.fuel: float = fuel\n",
    "\n",
    "    def fly(self, fuel_val: float) -> None:\n",
    "        \"\"\"Reduce the fuel amount for flying.\"\"\"\n",
    "        if self.fuel - fuel_val <= 0:\n",
    "            print(\"Not enough fuel!\")\n",
    "        else:\n",
    "            self.fuel -= fuel_val\n",
    "\n",
    "    def dump(self) -> None:\n",
    "        \"\"\"Dump the contents of the backpack and fuel\"\"\"\n",
    "        self.contents.clear()\n",
    "        self.fuel = 0"
   ]
  },
  {
   "cell_type": "code",
   "execution_count": null,
   "metadata": {},
   "outputs": [],
   "source": [
    "# Problem 17\n",
    "# We can calculate Greek pi by sampling the space [0,1]x[0,1] and observing how\n",
    "# many times the points fall within the quarter of the circle with ray 1 and\n",
    "# center in (0,0). Then we can derive pi from the ratio of the area covered by\n",
    "# one quarter of the circle and the area of the square [0,1]x[0,1]\n",
    "# That is: (1/4 * pi * r^2)/1 = # Points within the circle / # Points in the square, \n",
    "# hence pi = \\sqrt{ 4 R }  "
   ]
  }
 ],
 "metadata": {
  "kernelspec": {
   "display_name": "Python 3",
   "language": "python",
   "name": "python3"
  },
  "language_info": {
   "codemirror_mode": {
    "name": "ipython",
    "version": 3
   },
   "file_extension": ".py",
   "mimetype": "text/x-python",
   "name": "python",
   "nbconvert_exporter": "python",
   "pygments_lexer": "ipython3",
   "version": "3.10.2"
  },
  "name": "sheet1_sols.ipynb"
 },
 "nbformat": 4,
 "nbformat_minor": 4
}
