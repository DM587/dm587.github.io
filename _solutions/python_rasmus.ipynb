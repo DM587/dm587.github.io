{
 "cells": [
  {
   "source": [
    "## Solutions to Sheet 3 by Rasmus Kornbeck"
   ],
   "cell_type": "markdown",
   "metadata": {}
  },
  {
   "cell_type": "code",
   "execution_count": 1,
   "metadata": {
    "collapsed": false
   },
   "outputs": [],
   "source": [
    "from numpy.linalg import matrix_power\n",
    "from random import choice\n",
    "import itertools\n",
    "import numpy\n",
    "import random"
   ]
  },
  {
   "cell_type": "code",
   "execution_count": 2,
   "metadata": {
    "collapsed": false
   },
   "outputs": [
    {
     "output_type": "execute_result",
     "data": {
      "text/plain": [
       "523.5983333333332"
      ]
     },
     "metadata": {},
     "execution_count": 2
    }
   ],
   "source": [
    "# problem 1\n",
    "def sphere_volume(r):\n",
    "    \"\"\"Returns the volume of a sphere\"\"\"\n",
    "    return 4/3 * 3.14159 * r**3\n",
    "\n",
    "sphere_volume(5)"
   ]
  },
  {
   "cell_type": "code",
   "execution_count": 3,
   "metadata": {
    "collapsed": false
   },
   "outputs": [
    {
     "output_type": "stream",
     "name": "stdout",
     "text": [
      "1     2     3 4 5\n"
     ]
    }
   ],
   "source": [
    "# problem 2\n",
    "def isolate(a, b, c, d, e):\n",
    "    \"\"\"Print first two values with 5 spaces rest with one\"\"\"\n",
    "    print(a, b, sep=\"     \", end=\"     \")\n",
    "    print(c, d, e)\n",
    "\n",
    "isolate(1, 2, 3, 4, 5)"
   ]
  },
  {
   "cell_type": "code",
   "execution_count": 4,
   "metadata": {
    "collapsed": false
   },
   "outputs": [
    {
     "output_type": "stream",
     "name": "stdout",
     "text": [
      "12\n"
     ]
    }
   ],
   "source": [
    "# problem 3.1\n",
    "def first_half(string):\n",
    "    half = int(len(string)/2)  # int() removes the comma\n",
    "    print(string[:half])\n",
    "\n",
    "first_half(\"12345\")"
   ]
  },
  {
   "cell_type": "code",
   "execution_count": 5,
   "metadata": {
    "collapsed": false
   },
   "outputs": [
    {
     "output_type": "stream",
     "name": "stdout",
     "text": [
      "dcba\n"
     ]
    }
   ],
   "source": [
    "# problem 3.2\n",
    "def backward(string):\n",
    "    print(string[::-1]) # [start:end:step]\n",
    "\n",
    "backward(\"abcd\")"
   ]
  },
  {
   "cell_type": "code",
   "execution_count": 6,
   "metadata": {
    "collapsed": false
   },
   "outputs": [
    {
     "output_type": "stream",
     "name": "stdout",
     "text": [
      "1: ['bear', 'ant', 'cat', 'dog']\n2: ['bear', 'ant', 'cat', 'dog', 'eagle']\n3: ['bear', 'ant', 'fox', 'dog', 'eagle']\n4: ['bear', 'fox', 'dog', 'eagle']\n5: ['eagle', 'dog', 'fox', 'bear']\n6: ['hawk', 'dog', 'fox', 'bear']\n7: ['hawk', 'dog', 'fox', 'bear', 'hunter']\n"
     ]
    },
    {
     "output_type": "execute_result",
     "data": {
      "text/plain": [
       "['hawk', 'dog', 'fox', 'bear', 'hunter']"
      ]
     },
     "metadata": {},
     "execution_count": 6
    }
   ],
   "source": [
    "# problem 4\n",
    "def list_ops():\n",
    "    lst = [\"bear\", \"ant\", \"cat\", \"dog\"];    print(\"1: {}\".format(lst))\n",
    "    lst.append(\"eagle\");                    print(\"2: {}\".format(lst))\n",
    "    lst[2] = \"fox\";                         print(\"3: {}\".format(lst))\n",
    "    lst.pop(1);                             print(\"4: {}\".format(lst))\n",
    "    lst.reverse();                          print(\"5: {}\".format(lst))\n",
    "    lst[lst.index(\"eagle\")] = \"hawk\";       print(\"6: {}\".format(lst))\n",
    "    lst.append(\"hunter\");                   print(\"7: {}\".format(lst))\n",
    "    return lst\n",
    "\n",
    "list_ops()"
   ]
  },
  {
   "cell_type": "code",
   "execution_count": 7,
   "metadata": {
    "collapsed": false
   },
   "outputs": [
    {
     "output_type": "stream",
     "name": "stdout",
     "text": [
      "aesop rockhay\n"
     ]
    }
   ],
   "source": [
    "# problem 5\n",
    "def pig_latin(word):\n",
    "    vowels = (\"a\", \"e\", \"i\", \"o\", \"u\")\n",
    "    if word[0].lower() in vowels:\n",
    "        word = word + \"hay\"\n",
    "        print(word)\n",
    "    else:\n",
    "        word = word + word[0] + \"ay\"\n",
    "        word = word.replace(word[0], \"\")\n",
    "        print(word)\n",
    "\n",
    "\n",
    "pig_latin(\"aesop rock\")"
   ]
  },
  {
   "cell_type": "code",
   "execution_count": 8,
   "metadata": {
    "collapsed": false
   },
   "outputs": [
    {
     "output_type": "stream",
     "name": "stdout",
     "text": [
      "906609\n"
     ]
    }
   ],
   "source": [
    "# problem 6\n",
    "def palindrome():\n",
    "    palindromes = []\n",
    "    for i in range(100, 1000):\n",
    "        for j in range(100, 1000):\n",
    "            product = i * j\n",
    "            if str(product) == str(product)[::-1]: # [start:end:step]\n",
    "               palindromes.append(product)\n",
    "    #print(palindromes) # list of all palindromes\n",
    "    return max(palindromes)\n",
    "\n",
    "\n",
    "print(palindrome())"
   ]
  },
  {
   "cell_type": "code",
   "execution_count": 9,
   "metadata": {
    "collapsed": false
   },
   "outputs": [
    {
     "output_type": "stream",
     "name": "stdout",
     "text": [
      "0.7833333333333332\n"
     ]
    }
   ],
   "source": [
    "# problem 7 - w/ list comprehension\n",
    "def alt_harmonic(n):\n",
    "    return sum([(-1)**(i+1)/i for i in range(1, n+1)])\n",
    "\n",
    "\n",
    "print(alt_harmonic(5))"
   ]
  },
  {
   "cell_type": "code",
   "execution_count": 10,
   "metadata": {
    "collapsed": false
   },
   "outputs": [
    {
     "output_type": "execute_result",
     "data": {
      "text/plain": [
       "0.7833333333333332"
      ]
     },
     "metadata": {},
     "execution_count": 10
    }
   ],
   "source": [
    "# problem 7 - w/o list comprehension\n",
    "def alt_harmonic_alternative(n):\n",
    "    elements = []\n",
    "    for i in range(1, n+1):\n",
    "        elements.append((-1)**(i+1)/i)\n",
    "        \n",
    "    return sum(elements)\n",
    "\n",
    "\n",
    "alt_harmonic_alternative(5)"
   ]
  },
  {
   "cell_type": "code",
   "execution_count": 11,
   "metadata": {
    "collapsed": false
   },
   "outputs": [
    {
     "output_type": "stream",
     "name": "stdout",
     "text": [
      "(2, 5, 3.5)\n"
     ]
    }
   ],
   "source": [
    "# problem 8\n",
    "def list_info(lst):\n",
    "    return min(lst), max(lst), sum(lst)/len(lst)\n",
    "\n",
    "print(list_info((2, 3, 4, 5)))"
   ]
  },
  {
   "cell_type": "code",
   "execution_count": 12,
   "metadata": {
    "collapsed": false
   },
   "outputs": [
    {
     "output_type": "stream",
     "name": "stdout",
     "text": [
      "int1: 3, int2: 1, equals?: False\nint1 id: 4388964720, int2 id: 4388964656, equals?: False\n\nstr1: bar, str2: foo, equals?: False\nstr1 id: 4396523312, str2 id: 4396523440, equals?: False\n\nlist1: [10, 2, 3], list2: [10, 2, 3], equals?: True\nlist1 id: 4584247744, list2 id: 4584247744, equals?: True\n\ntuple1: (1, 2, 3, 1), tuple2: (1, 2, 3), equals?: False\ntuple1 id: 4550627792, tuple2 id: 4428778368, equals?: False\n\nset1: {2, 3}, set2: {2, 3}, equals?: True\nset1 id: 4428894720, set2 id: 4428894720, equals?: True\n\n"
     ]
    }
   ],
   "source": [
    "# problem 9\n",
    "int1 = 1\n",
    "int2 = int1\n",
    "int1 = 3\n",
    "print(\"int1: {}, int2: {}, equals?: {}\".format(int1, int2, int1 == int2))\n",
    "print(\"int1 id: {}, int2 id: {}, equals?: {}\\n\".format(\n",
    "    id(int1), id(int2), id(int1) == id(int2)))\n",
    "\n",
    "str1 = \"foo\"\n",
    "str2 = str1\n",
    "str1 = \"bar\"\n",
    "print(\"str1: {}, str2: {}, equals?: {}\".format(str1, str2, str1 == str2))\n",
    "print(\"str1 id: {}, str2 id: {}, equals?: {}\\n\".format(\n",
    "    id(str1), id(str2), id(str1) == id(str2)))\n",
    "\n",
    "list1 = [1, 2, 3]\n",
    "list2 = list1 # solve using list1.copy()\n",
    "list1[0] = 10\n",
    "print(\"list1: {}, list2: {}, equals?: {}\".format(list1, list2, list1 == list2))\n",
    "print(\"list1 id: {}, list2 id: {}, equals?: {}\\n\".format(\n",
    "    id(list1), id(list2), id(list1) == id(list2)))\n",
    "\n",
    "tuple1 = (1, 2, 3)\n",
    "tuple2 = (1, 2, 3)\n",
    "tuple1 += (1,)\n",
    "print(\"tuple1: {}, tuple2: {}, equals?: {}\".format(\n",
    "    tuple1, tuple2, tuple1 == tuple2))\n",
    "print(\"tuple1 id: {}, tuple2 id: {}, equals?: {}\\n\".format(\n",
    "    id(tuple1), id(tuple2), id(tuple1) == id(tuple2)))\n",
    "\n",
    "set1 = {1, 2, 3}\n",
    "set2 = set1 # solve using set1.copy()\n",
    "set1.pop()\n",
    "print(\"set1: {}, set2: {}, equals?: {}\".format(set1, set2, set1 == set2))\n",
    "print(\"set1 id: {}, set2 id: {}, equals?: {}\\n\".format(\n",
    "    id(set1), id(set2), id(set1) == id(set2)))"
   ]
  },
  {
   "cell_type": "code",
   "execution_count": 13,
   "metadata": {
    "collapsed": false
   },
   "outputs": [
    {
     "output_type": "execute_result",
     "data": {
      "text/plain": [
       "13"
      ]
     },
     "metadata": {},
     "execution_count": 13
    }
   ],
   "source": [
    "# problem 10\n",
    "# calculator.py\n",
    "from math import sqrt\n",
    "def my_sum(addend1, addend2):\n",
    "    return addend1 + addend2\n",
    "\n",
    "def product(factor1, factor2):\n",
    "    return factor1 * factor2\n",
    "\n",
    "# other_file.py\n",
    "\n",
    "# from calculator.py import *\n",
    "def hypotenuse(side1, side2):\n",
    "    return my_sum(product(side1, side1), product(side2, side2))\n",
    "    \n",
    "hypotenuse(2, 3)"
   ]
  },
  {
   "cell_type": "code",
   "execution_count": 14,
   "metadata": {
    "collapsed": false
   },
   "outputs": [
    {
     "output_type": "stream",
     "name": "stdout",
     "text": [
      "2\n"
     ]
    }
   ],
   "source": [
    "# problem 11\n",
    "# example of how to generate random numbers\n",
    "print(random.randrange(1, 100)) # 100 is not included"
   ]
  },
  {
   "cell_type": "code",
   "execution_count": 15,
   "metadata": {
    "collapsed": false
   },
   "outputs": [
    {
     "output_type": "execute_result",
     "data": {
      "text/plain": [
       "[0, {'1'}, {'2'}, {'3'}, {'12'}, {'13'}, {'23'}, {'123'}]"
      ]
     },
     "metadata": {},
     "execution_count": 15
    }
   ],
   "source": [
    "# problem 12\n",
    "def calcPowerSet(lst):\n",
    "    sets = [0]\n",
    "    for i in range(1, len(lst)+1):\n",
    "        for element in itertools.combinations(lst, i):\n",
    "            # combinations generate combinations with the length of the second argument\n",
    "            sets.append({''.join(element)}) # joins an iterable\n",
    "    return sets\n",
    "\n",
    "calcPowerSet(('1', '2', '3'))\n",
    "\n",
    "# why not set of sets? because sets are not hashable."
   ]
  },
  {
   "cell_type": "code",
   "execution_count": 16,
   "metadata": {
    "collapsed": false
   },
   "outputs": [],
   "source": [
    "# problem 13\n",
    "class Backpack:\n",
    "    \"\"\"A Backpack object class. Has a name, color, max size, and\n",
    "       a list of contents.\n",
    "\n",
    "    Attributes:\n",
    "        name (str): the name of the backpack's owner.\n",
    "        color (str): the color of the backpack\n",
    "        max_size (int): the max size\n",
    "        contents (list): the contents of the backpack.\n",
    "    \"\"\"\n",
    "\n",
    "    # Problem 13: Modify __init__() and put(), and write dump().\n",
    "    def __init__(self, name, color, max_size=5):\n",
    "        \"\"\"Set the name, color, max size, and initialize\n",
    "           an empty list of contents.\n",
    "\n",
    "        Parameters:\n",
    "            name (str): the name of the backpack's owner.\n",
    "            color (str): the color of the backpack\n",
    "            max_size(int, optional): max size of backpack\n",
    "\n",
    "        \"\"\"\n",
    "        self.name = name\n",
    "        self.color = color\n",
    "        self.max_size = max_size\n",
    "        self.contents = []\n",
    "\n",
    "    def put(self, item):\n",
    "        \"\"\"Add an item to the backpack's list of contents unless it is full.\"\"\"\n",
    "        if len(self.contents) == self.max_size:\n",
    "            print(\"No room!\")\n",
    "        else:\n",
    "            self.contents.append(item)\n",
    "\n",
    "    def take(self, item):\n",
    "        \"\"\"Remove an item from the backpack's list of contents.\"\"\"\n",
    "        self.contents.remove(item)\n",
    "\n",
    "    def dump(self):\n",
    "        \"\"\"Remove all items from backpack.\"\"\"\n",
    "        self.contents.clear()\n",
    "\n",
    "    # Magic Methods -----------------------------------------------------------\n",
    "\n",
    "    # Problem 15: Write __eq__() and __str__().\n",
    "    def __add__(self, other):\n",
    "        \"\"\"Add the number of contents of each Backpack.\"\"\"\n",
    "        return len(self.contents) + len(other.contents)\n",
    "\n",
    "    def __lt__(self, other):\n",
    "        \"\"\"Compare two backpacks. If 'self' has fewer contents\n",
    "        than 'other', return True. Otherwise, return False.\n",
    "        \"\"\"\n",
    "        return len(self.contents) < len(other.contents)\n",
    "\n",
    "    def __eq__(self, o):\n",
    "        q = 0\n",
    "        if self.name == o.name:\n",
    "            q += 1\n",
    "        if self.color == o.color:\n",
    "            q += 1\n",
    "        if self.contents == o.contents:\n",
    "            q += 1\n",
    "        if q == 3:\n",
    "            return True\n",
    "        else:\n",
    "            return False\n",
    "\n",
    "    def __str__(self):\n",
    "        return \"<<Owner:\\t{}\\nColor:\\t\\t{}\\nSize:\\t\\t{}\\nMax Size:\\t{}\\nContents:\\t{}>>\".format(\n",
    "            self.name, self.color, len(self.contents), self.max_size, self.contents)"
   ]
  },
  {
   "cell_type": "code",
   "execution_count": 17,
   "metadata": {
    "collapsed": false
   },
   "outputs": [
    {
     "output_type": "stream",
     "name": "stdout",
     "text": [
      "Contents:  ['book', 'pencil case']\n<<Owner:\tfoo\nColor:\t\tgreen\nSize:\t\t2\nMax Size:\t4\nContents:\t['book', 'pencil case']>>\nTrue\n"
     ]
    }
   ],
   "source": [
    "# problem 13 - test function\n",
    "def test_backpack():\n",
    "    test = Backpack(\"foo\", \"green\", max_size=4)\n",
    "    if test.name != \"foo\":\n",
    "        print(\"Name is incorrect.\")\n",
    "    for item in [\"book\", \"pencil case\"]:\n",
    "        test.put(item)\n",
    "    print(\"Contents: \", test.contents)\n",
    "\n",
    "    # problem 15 - test magic methods\n",
    "    print(str(test))\n",
    "    test2 = Backpack(\"foo\", \"green\", max_size=4)\n",
    "    for item in [\"book\", \"pencil case\"]:\n",
    "        test2.put(item)\n",
    "    print(test == test2)\n",
    "\n",
    "\n",
    "test_backpack()"
   ]
  },
  {
   "cell_type": "code",
   "execution_count": 18,
   "metadata": {
    "collapsed": false
   },
   "outputs": [],
   "source": [
    "# Problem 14: Write a 'Jetpack' class that inherits from the 'Backpack' class.\n",
    "class Jetpack(Backpack):\n",
    "    \"\"\"A jetpack that inherints from backpack.\n",
    "\n",
    "    Attributes:\n",
    "    - name (str): name of owner\n",
    "    - color (str): color of backpack\n",
    "    - max_size (int): max size of backpack\n",
    "    - fuel: current fuel of the backpack\"\"\"\n",
    "\n",
    "    def __init__(self, name, color, max_size=2, fuel=10):\n",
    "        \"\"\"Call the super class' constructor and initialize fuel\n",
    "\n",
    "        Parameters:\n",
    "        - name (str): name of owner\n",
    "        - color (str): color of backpack\n",
    "        - max_size (int): max size of backpack\n",
    "        - fuel: current fuel of the backpack\"\"\"\n",
    "        Backpack.__init__(self, name, max_size)\n",
    "        self.fuel = fuel\n",
    "\n",
    "    def fly(self, fuel_val):\n",
    "        \"\"\"Reduce the fuel amount for flying.\"\"\"\n",
    "        if self.fuel - fuel_val <= 0:\n",
    "            print(\"Not enough fuel!\")\n",
    "        else:\n",
    "            self.fuel -= fuel_val\n",
    "\n",
    "    def dump(self):\n",
    "        \"\"\"Dump the contents of the backpack and fuel\"\"\"\n",
    "        self.contents.clear()\n",
    "        self.fuel = 0"
   ]
  },
  {
   "cell_type": "code",
   "execution_count": 19,
   "metadata": {
    "collapsed": false
   },
   "outputs": [
    {
     "output_type": "stream",
     "name": "stdout",
     "text": [
      "Process completed\n"
     ]
    },
    {
     "output_type": "execute_result",
     "data": {
      "text/plain": [
       "-4"
      ]
     },
     "metadata": {},
     "execution_count": 19
    }
   ],
   "source": [
    "# problem 16\n",
    "# warning: don't execute in here, use ipython\n",
    "def random_walk(max_iters=1e12):\n",
    "    walk = 0\n",
    "    directions = [1, -1]\n",
    "    try:\n",
    "        for i in range(int(max_iters)):\n",
    "            walk += choice(directions)\n",
    "    except KeyboardInterrupt:\n",
    "        print(\"Process interupted at iteration \" + str(i))\n",
    "    else:\n",
    "        print(\"Process completed\")\n",
    "    return walk\n",
    "\n",
    "random_walk(10)"
   ]
  },
  {
   "cell_type": "code",
   "execution_count": 20,
   "metadata": {
    "collapsed": false
   },
   "outputs": [
    {
     "output_type": "stream",
     "name": "stdout",
     "text": [
      "File not found. Try another name.\n"
     ]
    },
    {
     "output_type": "error",
     "ename": "KeyboardInterrupt",
     "evalue": "Interrupted by user",
     "traceback": [
      "\u001b[0;31m---------------------------------------------------------------------------\u001b[0m",
      "\u001b[0;31mKeyboardInterrupt\u001b[0m                         Traceback (most recent call last)",
      "\u001b[0;32m<ipython-input-20-ecbc6df4aac5>\u001b[0m in \u001b[0;36m<module>\u001b[0;34m\u001b[0m\n\u001b[1;32m     21\u001b[0m                     \u001b[0mprint\u001b[0m\u001b[0;34m(\u001b[0m\u001b[0;34m\"File not found. Try another name.\"\u001b[0m\u001b[0;34m)\u001b[0m\u001b[0;34m\u001b[0m\u001b[0;34m\u001b[0m\u001b[0m\n\u001b[1;32m     22\u001b[0m \u001b[0;34m\u001b[0m\u001b[0m\n\u001b[0;32m---> 23\u001b[0;31m \u001b[0mcontent_filter\u001b[0m \u001b[0;34m=\u001b[0m \u001b[0mContentFilter\u001b[0m\u001b[0;34m(\u001b[0m\u001b[0;34m\"foo.txt\"\u001b[0m\u001b[0;34m)\u001b[0m\u001b[0;34m\u001b[0m\u001b[0;34m\u001b[0m\u001b[0m\n\u001b[0m\u001b[1;32m     24\u001b[0m \u001b[0mprint\u001b[0m\u001b[0;34m(\u001b[0m\u001b[0;34m\"Name: {}, Contents: {}\"\u001b[0m\u001b[0;34m.\u001b[0m\u001b[0mformat\u001b[0m\u001b[0;34m(\u001b[0m\u001b[0mcontent_filter\u001b[0m\u001b[0;34m.\u001b[0m\u001b[0mfile_name\u001b[0m\u001b[0;34m,\u001b[0m \u001b[0mcontent_filter\u001b[0m\u001b[0;34m.\u001b[0m\u001b[0mcontents\u001b[0m\u001b[0;34m)\u001b[0m\u001b[0;34m)\u001b[0m\u001b[0;34m\u001b[0m\u001b[0;34m\u001b[0m\u001b[0m\n",
      "\u001b[0;32m<ipython-input-20-ecbc6df4aac5>\u001b[0m in \u001b[0;36m__init__\u001b[0;34m(self, given_file_name)\u001b[0m\n\u001b[1;32m     12\u001b[0m             \u001b[0mprint\u001b[0m\u001b[0;34m(\u001b[0m\u001b[0;34m\"File not found. Try another name.\"\u001b[0m\u001b[0;34m)\u001b[0m\u001b[0;34m\u001b[0m\u001b[0;34m\u001b[0m\u001b[0m\n\u001b[1;32m     13\u001b[0m             \u001b[0;32mwhile\u001b[0m \u001b[0;34m(\u001b[0m\u001b[0;32mTrue\u001b[0m\u001b[0;34m)\u001b[0m\u001b[0;34m:\u001b[0m\u001b[0;34m\u001b[0m\u001b[0;34m\u001b[0m\u001b[0m\n\u001b[0;32m---> 14\u001b[0;31m                 \u001b[0minput_file_name\u001b[0m \u001b[0;34m=\u001b[0m \u001b[0minput\u001b[0m\u001b[0;34m(\u001b[0m\u001b[0;34m)\u001b[0m\u001b[0;34m\u001b[0m\u001b[0;34m\u001b[0m\u001b[0m\n\u001b[0m\u001b[1;32m     15\u001b[0m                 \u001b[0;32mtry\u001b[0m\u001b[0;34m:\u001b[0m\u001b[0;34m\u001b[0m\u001b[0;34m\u001b[0m\u001b[0m\n\u001b[1;32m     16\u001b[0m                     \u001b[0;32mwith\u001b[0m \u001b[0mopen\u001b[0m\u001b[0;34m(\u001b[0m\u001b[0minput_file_name\u001b[0m\u001b[0;34m,\u001b[0m \u001b[0;34m\"r\"\u001b[0m\u001b[0;34m)\u001b[0m \u001b[0;32mas\u001b[0m \u001b[0mf\u001b[0m\u001b[0;34m:\u001b[0m\u001b[0;34m\u001b[0m\u001b[0;34m\u001b[0m\u001b[0m\n",
      "\u001b[0;32m~/Library/Python/3.9/lib/python/site-packages/ipykernel/kernelbase.py\u001b[0m in \u001b[0;36mraw_input\u001b[0;34m(self, prompt)\u001b[0m\n\u001b[1;32m    846\u001b[0m                 \u001b[0;34m\"raw_input was called, but this frontend does not support input requests.\"\u001b[0m\u001b[0;34m\u001b[0m\u001b[0;34m\u001b[0m\u001b[0m\n\u001b[1;32m    847\u001b[0m             )\n\u001b[0;32m--> 848\u001b[0;31m         return self._input_request(str(prompt),\n\u001b[0m\u001b[1;32m    849\u001b[0m             \u001b[0mself\u001b[0m\u001b[0;34m.\u001b[0m\u001b[0m_parent_ident\u001b[0m\u001b[0;34m,\u001b[0m\u001b[0;34m\u001b[0m\u001b[0;34m\u001b[0m\u001b[0m\n\u001b[1;32m    850\u001b[0m             \u001b[0mself\u001b[0m\u001b[0;34m.\u001b[0m\u001b[0m_parent_header\u001b[0m\u001b[0;34m,\u001b[0m\u001b[0;34m\u001b[0m\u001b[0;34m\u001b[0m\u001b[0m\n",
      "\u001b[0;32m~/Library/Python/3.9/lib/python/site-packages/ipykernel/kernelbase.py\u001b[0m in \u001b[0;36m_input_request\u001b[0;34m(self, prompt, ident, parent, password)\u001b[0m\n\u001b[1;32m    890\u001b[0m             \u001b[0;32mexcept\u001b[0m \u001b[0mKeyboardInterrupt\u001b[0m\u001b[0;34m:\u001b[0m\u001b[0;34m\u001b[0m\u001b[0;34m\u001b[0m\u001b[0m\n\u001b[1;32m    891\u001b[0m                 \u001b[0;31m# re-raise KeyboardInterrupt, to truncate traceback\u001b[0m\u001b[0;34m\u001b[0m\u001b[0;34m\u001b[0m\u001b[0;34m\u001b[0m\u001b[0m\n\u001b[0;32m--> 892\u001b[0;31m                 \u001b[0;32mraise\u001b[0m \u001b[0mKeyboardInterrupt\u001b[0m\u001b[0;34m(\u001b[0m\u001b[0;34m\"Interrupted by user\"\u001b[0m\u001b[0;34m)\u001b[0m \u001b[0;32mfrom\u001b[0m \u001b[0;32mNone\u001b[0m\u001b[0;34m\u001b[0m\u001b[0;34m\u001b[0m\u001b[0m\n\u001b[0m\u001b[1;32m    893\u001b[0m             \u001b[0;32mexcept\u001b[0m \u001b[0mException\u001b[0m \u001b[0;32mas\u001b[0m \u001b[0me\u001b[0m\u001b[0;34m:\u001b[0m\u001b[0;34m\u001b[0m\u001b[0;34m\u001b[0m\u001b[0m\n\u001b[1;32m    894\u001b[0m                 \u001b[0mself\u001b[0m\u001b[0;34m.\u001b[0m\u001b[0mlog\u001b[0m\u001b[0;34m.\u001b[0m\u001b[0mwarning\u001b[0m\u001b[0;34m(\u001b[0m\u001b[0;34m\"Invalid Message:\"\u001b[0m\u001b[0;34m,\u001b[0m \u001b[0mexc_info\u001b[0m\u001b[0;34m=\u001b[0m\u001b[0;32mTrue\u001b[0m\u001b[0;34m)\u001b[0m\u001b[0;34m\u001b[0m\u001b[0;34m\u001b[0m\u001b[0m\n",
      "\u001b[0;31mKeyboardInterrupt\u001b[0m: Interrupted by user"
     ]
    }
   ],
   "source": [
    "# problem 17\n",
    "# warning: don't execute here, use ipython if the file does not exist\n",
    "class ContentFilter:\n",
    "    def __init__(self, given_file_name):\n",
    "        self.file_name = \"\"\n",
    "        self.contents = \"\"\n",
    "        try:\n",
    "            with open(given_file_name, \"r\") as f:\n",
    "                self.file_name = given_file_name\n",
    "                self.contents = f.read()\n",
    "        except IOError:\n",
    "            print(\"File not found. Try another name.\")\n",
    "            while (True):\n",
    "                input_file_name = input()\n",
    "                try:\n",
    "                    with open(input_file_name, \"r\") as f:\n",
    "                        self.file_name = input_file_name\n",
    "                        self.contents = f.read()\n",
    "                        break\n",
    "                except IOError:\n",
    "                    print(\"File not found. Try another name.\")\n",
    "\n",
    "content_filter = ContentFilter(\"foo.txt\")\n",
    "print(\"Name: {}, Contents: {}\".format(content_filter.file_name, content_filter.contents))"
   ]
  },
  {
   "cell_type": "code",
   "execution_count": 21,
   "metadata": {
    "collapsed": false
   },
   "outputs": [
    {
     "output_type": "execute_result",
     "data": {
      "text/plain": [
       "array([[ 37,  14, -32, -10],\n",
       "       [-54,  -7,  58,  65]])"
      ]
     },
     "metadata": {},
     "execution_count": 21
    }
   ],
   "source": [
    "# problem 18\n",
    "def multiply_matrices():\n",
    "    A = numpy.array([[3, -1, 4], [1, 5, -9]])\n",
    "    B = numpy.array([[2, 6, -5, 3], [5, -8, 9, 7], [9, -3, -2, -3]])\n",
    "    return A @ B\n",
    "\n",
    "multiply_matrices()"
   ]
  },
  {
   "cell_type": "code",
   "execution_count": 22,
   "metadata": {
    "collapsed": false
   },
   "outputs": [
    {
     "output_type": "execute_result",
     "data": {
      "text/plain": [
       "array([[0, 0, 0],\n",
       "       [0, 0, 0],\n",
       "       [0, 0, 0]])"
      ]
     },
     "metadata": {},
     "execution_count": 22
    }
   ],
   "source": [
    "# problem 19\n",
    "def mult_matrix_with_self():\n",
    "    A = numpy.array([[3, 1, 4], [1, 5, 9], [-5, 3, 1]])\n",
    "    return -matrix_power(A, 3) + 9*matrix_power(A, 2) - 15*A\n",
    "\n",
    "mult_matrix_with_self()"
   ]
  },
  {
   "cell_type": "code",
   "execution_count": 27,
   "metadata": {
    "collapsed": false
   },
   "outputs": [
    {
     "output_type": "stream",
     "name": "stdout",
     "text": [
      "[[1. 1. 1. 1. 1. 1. 1.]\n [0. 1. 1. 1. 1. 1. 1.]\n [0. 0. 1. 1. 1. 1. 1.]\n [0. 0. 0. 1. 1. 1. 1.]\n [0. 0. 0. 0. 1. 1. 1.]\n [0. 0. 0. 0. 0. 1. 1.]\n [0. 0. 0. 0. 0. 0. 1.]]\n"
     ]
    },
    {
     "output_type": "execute_result",
     "data": {
      "text/plain": [
       "array([[ -7.,  -8.,  -3.,   8.,  25.,  48.,  77.],\n",
       "       [ -6., -12., -12.,  -6.,   6.,  24.,  48.],\n",
       "       [ -5., -10., -15., -14.,  -7.,   6.,  25.],\n",
       "       [ -4.,  -8., -12., -16., -14.,  -6.,   8.],\n",
       "       [ -3.,  -6.,  -9., -12., -15., -12.,  -3.],\n",
       "       [ -2.,  -4.,  -6.,  -8., -10., -12.,  -8.],\n",
       "       [ -1.,  -2.,  -3.,  -4.,  -5.,  -6.,  -7.]])"
      ]
     },
     "metadata": {},
     "execution_count": 27
    }
   ],
   "source": [
    "# problem 20\n",
    "def array_creation():\n",
    "    A = numpy.triu(numpy.ones((7, 7)))\n",
    "    print(A)\n",
    "    B1 = -numpy.ones((7, 7))\n",
    "    B2 = numpy.triu(numpy.full((7, 7), 6))\n",
    "    B3 = numpy.eye(7) * -6\n",
    "    B = B1 + B2 + B3\n",
    "    return A @ B @ A\n",
    "\n",
    "array_creation()"
   ]
  },
  {
   "cell_type": "code",
   "execution_count": 24,
   "metadata": {
    "collapsed": false
   },
   "outputs": [
    {
     "output_type": "execute_result",
     "data": {
      "text/plain": [
       "array([[ 0,  5],\n",
       "       [ 0, 20]])"
      ]
     },
     "metadata": {},
     "execution_count": 24
    }
   ],
   "source": [
    "# problem 21\n",
    "def fancyZeroes(A):\n",
    "    B = A.copy()\n",
    "    B[B < 0] = 0\n",
    "    return B\n",
    "\n",
    "fancyZeroes(numpy.array([[-10, 5], [-30, 20]]))"
   ]
  },
  {
   "cell_type": "code",
   "execution_count": 25,
   "metadata": {
    "collapsed": false
   },
   "outputs": [
    {
     "output_type": "execute_result",
     "data": {
      "text/plain": [
       "array([[ 0.,  0.,  0.,  0.,  1.,  1.,  0.,  0.],\n",
       "       [ 0.,  0.,  0.,  2.,  3.,  0.,  1.,  0.],\n",
       "       [ 0.,  2.,  4.,  4.,  5.,  0.,  0.,  1.],\n",
       "       [ 1.,  3.,  5.,  0.,  0.,  0.,  0.,  0.],\n",
       "       [ 3.,  0.,  0.,  0.,  0., -2.,  0.,  0.],\n",
       "       [ 3.,  3.,  0.,  0.,  0.,  0., -2.,  0.],\n",
       "       [ 3.,  3.,  3.,  0.,  0.,  0.,  0., -2.]])"
      ]
     },
     "metadata": {},
     "execution_count": 25
    }
   ],
   "source": [
    "# problem 22\n",
    "def stacking():\n",
    "    A = numpy.array([[0, 2, 4], [1, 3, 5]])\n",
    "    B = numpy.array([[3, 0, 0], [3, 3, 0], [3, 3, 3]])\n",
    "    C = numpy.array([[-2, 0, 0], [0, -2, 0], [0, 0, -2]])\n",
    "    col1 = numpy.vstack((numpy.zeros((2, 3)), A, B))\n",
    "    col2 = numpy.vstack((A.T, numpy.zeros((2, 2)), numpy.zeros((2, 2))))\n",
    "    col3 = numpy.vstack((numpy.eye(3), numpy.zeros((1, 3)), C))\n",
    "    return numpy.hstack((col1, col2, col3))\n",
    "\n",
    "stacking()"
   ]
  },
  {
   "cell_type": "code",
   "execution_count": 26,
   "metadata": {
    "collapsed": false
   },
   "outputs": [
    {
     "output_type": "execute_result",
     "data": {
      "text/plain": [
       "array([[0.4, 0.6],\n",
       "       [0.6, 0.4]])"
      ]
     },
     "metadata": {},
     "execution_count": 26
    }
   ],
   "source": [
    "# problem 23\n",
    "def stochasticMat(A):\n",
    "    # it is a row vector when it should be column\n",
    "    # Equivalent: return A/A.sum(axis=1).reshape(3,1)\n",
    "    return A/A.sum(axis=1)[:, None]\n",
    "\n",
    "stochasticMat(numpy.array([[2, 3],[3, 2]]))\n"
   ]
  }
 ],
 "metadata": {
  "kernelspec": {
   "argv": [
    "python",
    "-m",
    "ipykernel_launcher",
    "-f",
    "{connection_file}"
   ],
   "display_name": "Python 3",
   "env": null,
   "interrupt_mode": "signal",
   "language": "python",
   "name": "python3"
  },
  "language_info": {
   "codemirror_mode": {
    "name": "ipython",
    "version": 3
   },
   "file_extension": ".py",
   "mimetype": "text/x-python",
   "name": "python",
   "nbconvert_exporter": "python",
   "pygments_lexer": "ipython3",
   "version": "3.9.1-final"
  },
  "name": "sheet1_sols.ipynb"
 },
 "nbformat": 4,
 "nbformat_minor": 4
}